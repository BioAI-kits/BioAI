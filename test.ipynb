{
 "cells": [
  {
   "cell_type": "code",
   "execution_count": 39,
   "metadata": {},
   "outputs": [],
   "source": [
    "from bioai.data.readData import ReadData\n",
    "import pandas as pd \n",
    "from bioai.preprocessing.cleanData import Pipeline\n",
    "from bioai.preprocessing.splitData import percent_split\n",
    "from bioai.algorithms.multi_omics.classification.RandomForest import Model"
   ]
  },
  {
   "cell_type": "code",
   "execution_count": 2,
   "metadata": {},
   "outputs": [],
   "source": [
    "datas, label = ReadData(dataFiles=['./example/cnv.csv.gz',\n",
    "                                   './example/met.csv.gz',\n",
    "                                   './example/rna.csv.gz'\n",
    "                                   ], \n",
    "                        labelFile='./example/label.csv',\n",
    "                        groupName=['cnv', 'met', 'rna']\n",
    "                        ).run()"
   ]
  },
  {
   "cell_type": "code",
   "execution_count": 3,
   "metadata": {},
   "outputs": [
    {
     "name": "stdout",
     "output_type": "stream",
     "text": [
      "2023-04-27 17:25:16 >>> Merge the data according to the sample id, and only keep the samples with the shared id...\n",
      "\n",
      "2023-04-27 17:25:16 >>> The number of samples retained is: 627 .\n"
     ]
    }
   ],
   "source": [
    "Data, Label = Pipeline(datas=datas, label=label).run()\n"
   ]
  },
  {
   "cell_type": "code",
   "execution_count": 4,
   "metadata": {},
   "outputs": [],
   "source": [
    "X_train, X_test, Y_train, Y_test = percent_split(Data, Label)"
   ]
  },
  {
   "cell_type": "code",
   "execution_count": 42,
   "metadata": {},
   "outputs": [
    {
     "ename": "FileNotFoundError",
     "evalue": "[Errno 2] No such file or directory: 'Result_RandomForest\\\\model.pkl'",
     "output_type": "error",
     "traceback": [
      "\u001b[1;31m---------------------------------------------------------------------------\u001b[0m",
      "\u001b[1;31mFileNotFoundError\u001b[0m                         Traceback (most recent call last)",
      "Cell \u001b[1;32mIn[42], line 2\u001b[0m\n\u001b[0;32m      1\u001b[0m RF \u001b[39m=\u001b[39m Model(X_train, X_test, Y_train\u001b[39m.\u001b[39mlabel\u001b[39m.\u001b[39mvalues, Y_test\u001b[39m.\u001b[39mlabel\u001b[39m.\u001b[39mvalues)\n\u001b[1;32m----> 2\u001b[0m RF\u001b[39m.\u001b[39;49mbuildModel()\n",
      "File \u001b[1;32mc:\\Users\\liangbilin\\Desktop\\bioai\\BioAI\\bioai\\algorithms\\multi_omics\\classification\\RandomForest.py:29\u001b[0m, in \u001b[0;36mbuildModel\u001b[1;34m(self)\u001b[0m\n\u001b[0;32m     26\u001b[0m     \u001b[39m# create direaction\u001b[39;00m\n\u001b[0;32m     27\u001b[0m     os\u001b[39m.\u001b[39mmakedirs(output, exist_ok\u001b[39m=\u001b[39m\u001b[39mTrue\u001b[39;00m)\n\u001b[1;32m---> 29\u001b[0m \u001b[39mdef\u001b[39;00m \u001b[39mbuildModel\u001b[39m(\u001b[39mself\u001b[39m):\n\u001b[0;32m     30\u001b[0m     model \u001b[39m=\u001b[39m RandomForestClassifier(n_estimators\u001b[39m=\u001b[39m\u001b[39m100\u001b[39m, max_depth\u001b[39m=\u001b[39m\u001b[39m2\u001b[39m, random_state\u001b[39m=\u001b[39m\u001b[39m0\u001b[39m)\n\u001b[0;32m     31\u001b[0m     model\u001b[39m.\u001b[39mfit(\u001b[39mself\u001b[39m\u001b[39m.\u001b[39mX_train, \u001b[39mself\u001b[39m\u001b[39m.\u001b[39mY_train)\n",
      "\u001b[1;31mFileNotFoundError\u001b[0m: [Errno 2] No such file or directory: 'Result_RandomForest\\\\model.pkl'"
     ]
    }
   ],
   "source": [
    "RF = Model(X_train, X_test, Y_train.label.values, Y_test.label.values,\n",
    "           output=r\"C:\\Users\\liangbilin\\Desktop\\bioai\\BioAI\\bioai\",\n",
    "           )\n",
    "RF.buildModel()\n",
    "\n",
    "r\"C:\\Users\\liangbilin\\Desktop\\bioai\\BioAI\\bioai\""
   ]
  },
  {
   "cell_type": "code",
   "execution_count": 7,
   "metadata": {},
   "outputs": [
    {
     "data": {
      "text/html": [
       "<style>#sk-container-id-3 {color: black;background-color: white;}#sk-container-id-3 pre{padding: 0;}#sk-container-id-3 div.sk-toggleable {background-color: white;}#sk-container-id-3 label.sk-toggleable__label {cursor: pointer;display: block;width: 100%;margin-bottom: 0;padding: 0.3em;box-sizing: border-box;text-align: center;}#sk-container-id-3 label.sk-toggleable__label-arrow:before {content: \"▸\";float: left;margin-right: 0.25em;color: #696969;}#sk-container-id-3 label.sk-toggleable__label-arrow:hover:before {color: black;}#sk-container-id-3 div.sk-estimator:hover label.sk-toggleable__label-arrow:before {color: black;}#sk-container-id-3 div.sk-toggleable__content {max-height: 0;max-width: 0;overflow: hidden;text-align: left;background-color: #f0f8ff;}#sk-container-id-3 div.sk-toggleable__content pre {margin: 0.2em;color: black;border-radius: 0.25em;background-color: #f0f8ff;}#sk-container-id-3 input.sk-toggleable__control:checked~div.sk-toggleable__content {max-height: 200px;max-width: 100%;overflow: auto;}#sk-container-id-3 input.sk-toggleable__control:checked~label.sk-toggleable__label-arrow:before {content: \"▾\";}#sk-container-id-3 div.sk-estimator input.sk-toggleable__control:checked~label.sk-toggleable__label {background-color: #d4ebff;}#sk-container-id-3 div.sk-label input.sk-toggleable__control:checked~label.sk-toggleable__label {background-color: #d4ebff;}#sk-container-id-3 input.sk-hidden--visually {border: 0;clip: rect(1px 1px 1px 1px);clip: rect(1px, 1px, 1px, 1px);height: 1px;margin: -1px;overflow: hidden;padding: 0;position: absolute;width: 1px;}#sk-container-id-3 div.sk-estimator {font-family: monospace;background-color: #f0f8ff;border: 1px dotted black;border-radius: 0.25em;box-sizing: border-box;margin-bottom: 0.5em;}#sk-container-id-3 div.sk-estimator:hover {background-color: #d4ebff;}#sk-container-id-3 div.sk-parallel-item::after {content: \"\";width: 100%;border-bottom: 1px solid gray;flex-grow: 1;}#sk-container-id-3 div.sk-label:hover label.sk-toggleable__label {background-color: #d4ebff;}#sk-container-id-3 div.sk-serial::before {content: \"\";position: absolute;border-left: 1px solid gray;box-sizing: border-box;top: 0;bottom: 0;left: 50%;z-index: 0;}#sk-container-id-3 div.sk-serial {display: flex;flex-direction: column;align-items: center;background-color: white;padding-right: 0.2em;padding-left: 0.2em;position: relative;}#sk-container-id-3 div.sk-item {position: relative;z-index: 1;}#sk-container-id-3 div.sk-parallel {display: flex;align-items: stretch;justify-content: center;background-color: white;position: relative;}#sk-container-id-3 div.sk-item::before, #sk-container-id-3 div.sk-parallel-item::before {content: \"\";position: absolute;border-left: 1px solid gray;box-sizing: border-box;top: 0;bottom: 0;left: 50%;z-index: -1;}#sk-container-id-3 div.sk-parallel-item {display: flex;flex-direction: column;z-index: 1;position: relative;background-color: white;}#sk-container-id-3 div.sk-parallel-item:first-child::after {align-self: flex-end;width: 50%;}#sk-container-id-3 div.sk-parallel-item:last-child::after {align-self: flex-start;width: 50%;}#sk-container-id-3 div.sk-parallel-item:only-child::after {width: 0;}#sk-container-id-3 div.sk-dashed-wrapped {border: 1px dashed gray;margin: 0 0.4em 0.5em 0.4em;box-sizing: border-box;padding-bottom: 0.4em;background-color: white;}#sk-container-id-3 div.sk-label label {font-family: monospace;font-weight: bold;display: inline-block;line-height: 1.2em;}#sk-container-id-3 div.sk-label-container {text-align: center;}#sk-container-id-3 div.sk-container {/* jupyter's `normalize.less` sets `[hidden] { display: none; }` but bootstrap.min.css set `[hidden] { display: none !important; }` so we also need the `!important` here to be able to override the default hidden behavior on the sphinx rendered scikit-learn.org. See: https://github.com/scikit-learn/scikit-learn/issues/21755 */display: inline-block !important;position: relative;}#sk-container-id-3 div.sk-text-repr-fallback {display: none;}</style><div id=\"sk-container-id-3\" class=\"sk-top-container\"><div class=\"sk-text-repr-fallback\"><pre>RandomForestClassifier(max_depth=2, random_state=0)</pre><b>In a Jupyter environment, please rerun this cell to show the HTML representation or trust the notebook. <br />On GitHub, the HTML representation is unable to render, please try loading this page with nbviewer.org.</b></div><div class=\"sk-container\" hidden><div class=\"sk-item\"><div class=\"sk-estimator sk-toggleable\"><input class=\"sk-toggleable__control sk-hidden--visually\" id=\"sk-estimator-id-3\" type=\"checkbox\" checked><label for=\"sk-estimator-id-3\" class=\"sk-toggleable__label sk-toggleable__label-arrow\">RandomForestClassifier</label><div class=\"sk-toggleable__content\"><pre>RandomForestClassifier(max_depth=2, random_state=0)</pre></div></div></div></div></div>"
      ],
      "text/plain": [
       "RandomForestClassifier(max_depth=2, random_state=0)"
      ]
     },
     "execution_count": 7,
     "metadata": {},
     "output_type": "execute_result"
    }
   ],
   "source": [
    "from sklearn.ensemble import RandomForestClassifier\n",
    "\n",
    "rf = RandomForestClassifier(n_estimators=100, max_depth=2, random_state=0)\n",
    "rf.fit(X_train, Y_train.label.values)"
   ]
  },
  {
   "cell_type": "code",
   "execution_count": 31,
   "metadata": {},
   "outputs": [
    {
     "data": {
      "text/plain": [
       "0.9312169312169312"
      ]
     },
     "execution_count": 31,
     "metadata": {},
     "output_type": "execute_result"
    }
   ],
   "source": [
    "rf.score(X_test, Y_test.label.values)"
   ]
  },
  {
   "cell_type": "code",
   "execution_count": 33,
   "metadata": {},
   "outputs": [],
   "source": [
    "from mlcakes.evaluation.multi_class import Metrics"
   ]
  },
  {
   "cell_type": "code",
   "execution_count": 38,
   "metadata": {},
   "outputs": [
    {
     "data": {
      "text/plain": [
       "{'confusion_matrix': [[14, 3, 2], [0, 85, 4], [1, 3, 77]],\n",
       " 'accuracy': 0.9312169312169312,\n",
       " 'balanced_accuracy': 0.8808385229963521,\n",
       " 'precision': {'class_0': 0.9333333333333333,\n",
       "  'class_1': 0.9340659340659341,\n",
       "  'class_2': 0.927710843373494,\n",
       "  'macro_precision': 0.9317033702575871,\n",
       "  'micro_precision': 0.9312169312169312,\n",
       "  'weighted_precision': 0.9312686760764786},\n",
       " 'recall': {'class_0': 0.7368421052631579,\n",
       "  'class_1': 0.9550561797752809,\n",
       "  'class_2': 0.9506172839506173,\n",
       "  'macro_recall': 0.8808385229963521,\n",
       "  'micro_recall': 0.9312169312169312,\n",
       "  'weighted_recall': 0.9312169312169312},\n",
       " 'f1_score': {'class_0': 0.8235294117647058,\n",
       "  'class_1': 0.9444444444444444,\n",
       "  'class_2': 0.9390243902439024,\n",
       "  'macro_f1': 0.9023327488176842,\n",
       "  'micro_f1': 0.9312169312169312,\n",
       "  'weighted_f1': 0.9299660845970427},\n",
       " 'auc': {'macro_ovr_auc': 0.9720605684879402,\n",
       "  'macro_ovo_auc': 0.9710352313020031,\n",
       "  'micro_ovr_auc': 0.9748047367094985,\n",
       "  'weighted_ovr_auc': 0.9703347511844244,\n",
       "  'weighted_ovo_auc': 0.9709776552940435}}"
      ]
     },
     "execution_count": 38,
     "metadata": {},
     "output_type": "execute_result"
    }
   ],
   "source": [
    "y_pred = rf.predict(X_test)\n",
    "y_score = rf.predict_proba(X_test)\n",
    "y_true = Y_test.label.values\n",
    "Evaluation = Metrics(y_pred=y_pred, y_score=y_score, y_true=y_true, output='./Results/RF.json')\n",
    "Evaluation.metrics_"
   ]
  }
 ],
 "metadata": {
  "kernelspec": {
   "display_name": "base",
   "language": "python",
   "name": "python3"
  },
  "language_info": {
   "codemirror_mode": {
    "name": "ipython",
    "version": 3
   },
   "file_extension": ".py",
   "mimetype": "text/x-python",
   "name": "python",
   "nbconvert_exporter": "python",
   "pygments_lexer": "ipython3",
   "version": "3.9.12"
  },
  "orig_nbformat": 4
 },
 "nbformat": 4,
 "nbformat_minor": 2
}
