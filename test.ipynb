{
 "cells": [
  {
   "cell_type": "code",
   "execution_count": 2,
   "metadata": {},
   "outputs": [
    {
     "name": "stdout",
     "output_type": "stream",
     "text": [
      "Fitting 5 folds for each of 20 candidates, totalling 100 fits\n",
      "最优参数:  {'C': 1, 'gamma': 0.001}\n",
      "最佳性能:  0.9721866295264624\n"
     ]
    }
   ],
   "source": [
    "from sklearn.datasets import load_digits\n",
    "from sklearn.svm import SVC\n",
    "from sklearn.model_selection import GridSearchCV\n",
    "X, y = load_digits(return_X_y = True)\n",
    "parameters = {'gamma': [0.001, 0.01, 0.1, 1], 'C':[0.001, 0.01, 0.1, 1,10]}\n",
    "#n_jobs =-1使用全部CPU并行多线程搜索\n",
    "gs = GridSearchCV(SVC(), parameters, refit = True, cv = 5, verbose = 1, n_jobs = -1)\n",
    "gs.fit(X,y) #Run fit with all sets of parameters.\n",
    "print('最优参数: ',gs.best_params_)\n",
    "print('最佳性能: ', gs.best_score_)\n"
   ]
  },
  {
   "cell_type": "code",
   "execution_count": 1,
   "metadata": {},
   "outputs": [
    {
     "data": {
      "text/plain": [
       "array([0.08892356, 0.71477866, 0.16136689, 0.83088904, 0.67049408,\n",
       "       0.79941942, 0.47866288, 0.52733651, 0.47225375, 0.37061971,\n",
       "       0.97491085, 0.15407891, 0.92429393, 0.66413595, 0.89448216,\n",
       "       0.01930879, 0.39635406, 0.27116343, 0.46642389, 0.61946621,\n",
       "       0.55816273, 0.66911625, 0.49685362, 0.26455395, 0.2877791 ,\n",
       "       0.54103553, 0.69131206, 0.41166323, 0.56897864, 0.24211755,\n",
       "       0.78004253, 0.1278309 ])"
      ]
     },
     "execution_count": 1,
     "metadata": {},
     "output_type": "execute_result"
    }
   ],
   "source": [
    "import numpy as np \n",
    "\n",
    "np.random.rand(32)"
   ]
  }
 ],
 "metadata": {
  "kernelspec": {
   "display_name": "base",
   "language": "python",
   "name": "python3"
  },
  "language_info": {
   "codemirror_mode": {
    "name": "ipython",
    "version": 3
   },
   "file_extension": ".py",
   "mimetype": "text/x-python",
   "name": "python",
   "nbconvert_exporter": "python",
   "pygments_lexer": "ipython3",
   "version": "3.9.12"
  },
  "orig_nbformat": 4
 },
 "nbformat": 4,
 "nbformat_minor": 2
}
