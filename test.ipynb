{
 "cells": [
  {
   "cell_type": "code",
   "execution_count": 3,
   "metadata": {},
   "outputs": [
    {
     "ename": "ModuleNotFoundError",
     "evalue": "No module named 'BioAI'",
     "output_type": "error",
     "traceback": [
      "\u001b[1;31m---------------------------------------------------------------------------\u001b[0m",
      "\u001b[1;31mModuleNotFoundError\u001b[0m                       Traceback (most recent call last)",
      "Cell \u001b[1;32mIn[3], line 1\u001b[0m\n\u001b[1;32m----> 1\u001b[0m \u001b[39mfrom\u001b[39;00m \u001b[39mBioAI\u001b[39;00m\u001b[39m.\u001b[39;00m\u001b[39mbioai\u001b[39;00m \u001b[39mimport\u001b[39;00m algorithms\n",
      "\u001b[1;31mModuleNotFoundError\u001b[0m: No module named 'BioAI'"
     ]
    }
   ],
   "source": [
    "from BioAI.bioai import algorithms"
   ]
  },
  {
   "cell_type": "code",
   "execution_count": 6,
   "metadata": {},
   "outputs": [
    {
     "ename": "ModuleNotFoundError",
     "evalue": "No module named 'bioai.algorithms.multi_omics'",
     "output_type": "error",
     "traceback": [
      "\u001b[1;31m---------------------------------------------------------------------------\u001b[0m",
      "\u001b[1;31mModuleNotFoundError\u001b[0m                       Traceback (most recent call last)",
      "Cell \u001b[1;32mIn[6], line 1\u001b[0m\n\u001b[1;32m----> 1\u001b[0m \u001b[39mfrom\u001b[39;00m \u001b[39mbioai\u001b[39;00m\u001b[39m.\u001b[39;00m\u001b[39mbioai\u001b[39;00m \u001b[39mimport\u001b[39;00m algorithms\n",
      "File \u001b[1;32mc:\\Users\\liangbilin\\Desktop\\bioai\\BioAI\\bioai\\__init__.py:1\u001b[0m\n\u001b[1;32m----> 1\u001b[0m \u001b[39mfrom\u001b[39;00m \u001b[39m.\u001b[39;00m \u001b[39mimport\u001b[39;00m algorithms, data, evaluation, launcher, preprocessing, postprocessing, utils, main\n\u001b[0;32m      4\u001b[0m __all__ \u001b[39m=\u001b[39m [\n\u001b[0;32m      5\u001b[0m     \u001b[39m'\u001b[39m\u001b[39malgorithms\u001b[39m\u001b[39m'\u001b[39m,\n\u001b[0;32m      6\u001b[0m     \u001b[39m'\u001b[39m\u001b[39mdata\u001b[39m\u001b[39m'\u001b[39m,\n\u001b[1;32m   (...)\u001b[0m\n\u001b[0;32m     12\u001b[0m     \u001b[39m'\u001b[39m\u001b[39mmain\u001b[39m\u001b[39m'\u001b[39m\n\u001b[0;32m     13\u001b[0m ]\n",
      "File \u001b[1;32mc:\\Users\\liangbilin\\Desktop\\bioai\\BioAI\\bioai\\main.py:5\u001b[0m\n\u001b[0;32m      3\u001b[0m \u001b[39mfrom\u001b[39;00m \u001b[39mbioai\u001b[39;00m\u001b[39m.\u001b[39;00m\u001b[39mpreprocessing\u001b[39;00m\u001b[39m.\u001b[39;00m\u001b[39mdataPreprocessing\u001b[39;00m\u001b[39m.\u001b[39;00m\u001b[39mcleanData\u001b[39;00m \u001b[39mimport\u001b[39;00m Pipeline\n\u001b[0;32m      4\u001b[0m \u001b[39mfrom\u001b[39;00m \u001b[39mbioai\u001b[39;00m\u001b[39m.\u001b[39;00m\u001b[39mpreprocessing\u001b[39;00m\u001b[39m.\u001b[39;00m\u001b[39mdataPreprocessing\u001b[39;00m\u001b[39m.\u001b[39;00m\u001b[39msplitData\u001b[39;00m \u001b[39mimport\u001b[39;00m percent_split\n\u001b[1;32m----> 5\u001b[0m \u001b[39mfrom\u001b[39;00m \u001b[39mbioai\u001b[39;00m\u001b[39m.\u001b[39;00m\u001b[39malgorithms\u001b[39;00m\u001b[39m.\u001b[39;00m\u001b[39mmulti_omics\u001b[39;00m\u001b[39m.\u001b[39;00m\u001b[39mclassification\u001b[39;00m\u001b[39m.\u001b[39;00m\u001b[39mRandomForest\u001b[39;00m \u001b[39mimport\u001b[39;00m Model\n\u001b[0;32m      8\u001b[0m \u001b[39mdef\u001b[39;00m \u001b[39mmoi\u001b[39m():\n\u001b[0;32m      9\u001b[0m     \u001b[39m# parms\u001b[39;00m\n\u001b[0;32m     10\u001b[0m     args \u001b[39m=\u001b[39m GetArgs()\u001b[39m.\u001b[39mregister()\n",
      "\u001b[1;31mModuleNotFoundError\u001b[0m: No module named 'bioai.algorithms.multi_omics'"
     ]
    }
   ],
   "source": [
    "from bioai.bioai import algorithms"
   ]
  }
 ],
 "metadata": {
  "kernelspec": {
   "display_name": "base",
   "language": "python",
   "name": "python3"
  },
  "language_info": {
   "codemirror_mode": {
    "name": "ipython",
    "version": 3
   },
   "file_extension": ".py",
   "mimetype": "text/x-python",
   "name": "python",
   "nbconvert_exporter": "python",
   "pygments_lexer": "ipython3",
   "version": "3.9.12"
  },
  "orig_nbformat": 4
 },
 "nbformat": 4,
 "nbformat_minor": 2
}
