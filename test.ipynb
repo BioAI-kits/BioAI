{
 "cells": [
  {
   "cell_type": "code",
   "execution_count": 1,
   "metadata": {},
   "outputs": [],
   "source": [
    "from xgboost.sklearn import XGBClassifier"
   ]
  },
  {
   "cell_type": "code",
   "execution_count": 2,
   "metadata": {},
   "outputs": [
    {
     "name": "stdout",
     "output_type": "stream",
     "text": [
      "正在测试多分类任务: \n"
     ]
    }
   ],
   "source": [
    "import numpy as np\n",
    "print('正在测试多分类任务: ')\n",
    "X_train = np.random.rand(64, 16)\n",
    "Y_train = np.random.choice(3, 64)\n",
    "X_test = np.random.rand(32, 16)\n",
    "Y_test = np.random.choice(3, 32)"
   ]
  },
  {
   "cell_type": "code",
   "execution_count": 58,
   "metadata": {},
   "outputs": [
    {
     "data": {
      "text/plain": [
       "0.28125"
      ]
     },
     "execution_count": 58,
     "metadata": {},
     "output_type": "execute_result"
    }
   ],
   "source": [
    "xgboost_model = XGBClassifier(n_estimators=10,\n",
    "                              max_depth=4,\n",
    "                              learning_rate=0.01\n",
    "                              )\n",
    "\n",
    "xgboost_model.fit(X_train, \n",
    "                  Y_train, \n",
    "                  verbose=False)\n",
    "\n",
    "xgboost_model.score(X_test, Y_test)"
   ]
  },
  {
   "cell_type": "code",
   "execution_count": 59,
   "metadata": {},
   "outputs": [
    {
     "data": {
      "text/plain": [
       "array([2, 1, 1, 1, 1, 1, 0, 0, 2, 1, 0, 1, 2, 0, 1, 1, 1, 2, 1, 0, 1, 2,\n",
       "       1, 0, 2, 1, 0, 1, 1, 1, 0, 1], dtype=int64)"
      ]
     },
     "execution_count": 59,
     "metadata": {},
     "output_type": "execute_result"
    }
   ],
   "source": [
    "xgboost_model.predict(X_test)"
   ]
  }
 ],
 "metadata": {
  "kernelspec": {
   "display_name": "base",
   "language": "python",
   "name": "python3"
  },
  "language_info": {
   "codemirror_mode": {
    "name": "ipython",
    "version": 3
   },
   "file_extension": ".py",
   "mimetype": "text/x-python",
   "name": "python",
   "nbconvert_exporter": "python",
   "pygments_lexer": "ipython3",
   "version": "3.9.12"
  },
  "orig_nbformat": 4
 },
 "nbformat": 4,
 "nbformat_minor": 2
}
